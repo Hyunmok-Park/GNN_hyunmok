{
 "cells": [
  {
   "cell_type": "markdown",
   "metadata": {},
   "source": [
    "# Datajoint Quick Introduction"
   ]
  },
  {
   "cell_type": "markdown",
   "metadata": {},
   "source": [
    "The goal of this notebook is to quickly go over some the most commonly used datajoint features in relationship to typical project."
   ]
  },
  {
   "cell_type": "markdown",
   "metadata": {},
   "source": [
    "## Why use database?\n",
    "For small projects, just writing stuff to a file or something along that manner would be sufficient, however when it comes to collobration between large amount of people or when there is a need to store everything in a single location where it can be access by other people as well as being backed up constantly, a database is the way to go.\n",
    "\n",
    "A database, without going too technical, is just a system that store tables of information and their relationship between each other. There is a whole process that goes into how to design these tables and relationship to be express in the database, but we will go over that later, or at least the basic of it."
   ]
  },
  {
   "cell_type": "markdown",
   "metadata": {},
   "source": [
    "## Why use datajoint?\n",
    "Datajoint is a useful python libaray that allows anyone who knows basic python to interact with a traditional relational database, which in this case is MYSQL.\n",
    "\n",
    "Without datajoint, to interact with a database, the user must use SQL statements like below which isn't always pretty nor easy to learn without some background knowledge on how database works.\n",
    "\n",
    "Datajoint is meant to bridge this gap and make the knowledge barrier more tolerable for people don't have time to spend half a year studying about database design and etc."
   ]
  },
  {
   "cell_type": "code",
   "execution_count": null,
   "metadata": {},
   "outputs": [],
   "source": [
    "SELECT column_list\n",
    "FROM table_1\n",
    "INNER JOIN table_2 ON join_condition;"
   ]
  },
  {
   "cell_type": "markdown",
   "metadata": {},
   "source": [
    "## Part 1: Installing Datajoint\n",
    "Run:\n",
    "pip3 install datajoint"
   ]
  },
  {
   "cell_type": "markdown",
   "metadata": {},
   "source": [
    "## Part 2: Setting up datajoint login"
   ]
  },
  {
   "cell_type": "code",
   "execution_count": 1,
   "metadata": {},
   "outputs": [],
   "source": [
    "import datajoint as dj\n",
    "\n",
    "# To get your datajoint login, please contact Daniel Sitonic on slack, he will be able to create your database credential.\n",
    "# Datajoint will then use those credentials to login into the database and allow you to use it.\n",
    "\n",
    "# This is the basic setup of the login information for datajoint. This only needs to be run once per computer.\n",
    "# In Docker this is done by setting the enviorment variables which datajoint will use (more details on K8 stuff)\n",
    "\n",
    "dj.config['database.host'] = 'at-database1.ad.bcm.edu' # This the database server, yes you must vpn into Baylor\n",
    "dj.config['database.username'] = 'kijung' # Provided when you setup an account with Daniel\n",
    "dj.config['database.password'] = 'kijung' # Provided when you setup an account with Daniel\n",
    "\n",
    "dj.config.save_global() # Save the information above on your machine so you don't have to do this again."
   ]
  },
  {
   "cell_type": "markdown",
   "metadata": {},
   "source": [
    "## Part 3: dj.Manual Tables"
   ]
  },
  {
   "cell_type": "code",
   "execution_count": 2,
   "metadata": {},
   "outputs": [
    {
     "name": "stdout",
     "output_type": "stream",
     "text": [
      "Please enter DataJoint username: kijung\n",
      "Connecting kijung@at-database1.ad.bcm.edu:3306\n"
     ]
    }
   ],
   "source": [
    "import datajoint as dj\n",
    "# There 3 types of tables that are mainly used in datajoint, dj.Manual, dj.Compute, and dj.Lookup.\n",
    "# We will focus on dj.Manual for this part.\n",
    "\n",
    "# Every table needs to be created in a schema, which is where all the tables we will create will go under\n",
    "# By default, you can only create schema with your username as a prefix, i.e. yourusername_exampleschema\n",
    "\n",
    "# This is how you set the schema\n",
    "# schema = dj.schema('kijung_datajoint_tutorial')\n",
    "# schema = dj.schema('kijung_test_II')\n",
    "schema = dj.schema('kijung-gnn')\n",
    "# schema = dj.schema('kijung-gnn-02')\n",
    "# schema = dj.schema('kijung-gnn-03')\n",
    "\n",
    "# This is requried during table creation, as you will decreate the table class with this schema so datajoint will know\n",
    "# where to create the table"
   ]
  },
  {
   "cell_type": "code",
   "execution_count": 3,
   "metadata": {},
   "outputs": [],
   "source": [
    "@schema\n",
    "class Sample(dj.Manual):\n",
    "    definition = \"\"\"\n",
    "    sample_id : int unsigned\n",
    "    \"\"\""
   ]
  },
  {
   "cell_type": "code",
   "execution_count": 21,
   "metadata": {},
   "outputs": [],
   "source": [
    "schema.jobs.delete_quick()\n",
    "# temp = dj.create_virtual_module('kijung_datajoint_tutorial', 'kijung_datajoint_tutorial')\n",
    "# temp = dj.create_virtual_module('kijung_test_II', 'kijung_test_II')\n",
    "temp = dj.create_virtual_module('kijung-gnn', 'kijung-gnn')\n",
    "# temp = dj.create_virtual_module('kijung-gnn-02', 'kijung-gnn-02')\n",
    "# temp = dj.create_virtual_module('kijung-gnn-03', 'kijung-gnn-03')\n",
    "temp.Sample().delete_quick()\n",
    "temp.SampleComputed.delete_quick()"
   ]
  },
  {
   "cell_type": "code",
   "execution_count": 22,
   "metadata": {
    "scrolled": true
   },
   "outputs": [],
   "source": [
    "import numpy as np\n",
    "\n",
    "# Sid = np.array([1201, 1202, 1204, 1205, 1207, 1208, 1210, 1213, 1215, 1217, 1220,\n",
    "#        1221, 1222, 1223, 1226, 1227, 1229, 1230, 1231, 1235, 1238, 1239,\n",
    "#        1240, 1241, 1242, 1244, 1247, 1257, 1259, 1261, 1267, 1269, 1270,\n",
    "#        1272, 1273, 1276, 1282, 1283, 1284, 1285, 1291, 1292, 1294, 1295,\n",
    "#        1296, 1297, 1299, 1300])\n",
    "\n",
    "# for i in Sid:\n",
    "#     Sample.insert1(dict(sample_id=i))\n",
    "\n",
    "for i in range(1,37):\n",
    "    Sample.insert1(dict(sample_id=i))"
   ]
  },
  {
   "cell_type": "code",
   "execution_count": 23,
   "metadata": {},
   "outputs": [
    {
     "data": {
      "text/html": [
       "\n",
       "        \n",
       "        <style type=\"text/css\">\n",
       "            .Relation{\n",
       "                border-collapse:collapse;\n",
       "            }\n",
       "            .Relation th{\n",
       "                background: #A0A0A0; color: #ffffff; padding:4px; border:#f0e0e0 1px solid;\n",
       "                font-weight: normal; font-family: monospace; font-size: 100%;\n",
       "            }\n",
       "            .Relation td{\n",
       "                padding:4px; border:#f0e0e0 1px solid; font-size:100%;\n",
       "            }\n",
       "            .Relation tr:nth-child(odd){\n",
       "                background: #ffffff;\n",
       "            }\n",
       "            .Relation tr:nth-child(even){\n",
       "                background: #f3f1ff;\n",
       "            }\n",
       "            /* Tooltip container */\n",
       "            .djtooltip {\n",
       "            }\n",
       "            /* Tooltip text */\n",
       "            .djtooltip .djtooltiptext {\n",
       "                visibility: hidden;\n",
       "                width: 120px;\n",
       "                background-color: black;\n",
       "                color: #fff;\n",
       "                text-align: center;\n",
       "                padding: 5px 0;\n",
       "                border-radius: 6px;\n",
       "                /* Position the tooltip text - see examples below! */\n",
       "                position: absolute;\n",
       "                z-index: 1;\n",
       "            }\n",
       "            #primary {\n",
       "                font-weight: bold;\n",
       "                color: black;\n",
       "            }\n",
       "\n",
       "            #nonprimary {\n",
       "                font-weight: normal;\n",
       "                color: white;\n",
       "            }\n",
       "\n",
       "            /* Show the tooltip text when you mouse over the tooltip container */\n",
       "            .djtooltip:hover .djtooltiptext {\n",
       "                visibility: visible;\n",
       "            }\n",
       "        </style>\n",
       "        \n",
       "        <b></b>\n",
       "            <div style=\"max-height:1000px;max-width:1500px;overflow:auto;\">\n",
       "            <table border=\"1\" class=\"Relation\">\n",
       "                <thead> <tr style=\"text-align: right;\"> <th> <div class=\"djtooltip\">\n",
       "                                <p id=\"primary\">sample_id</p>\n",
       "                                <span class=\"djtooltiptext\"></span>\n",
       "                            </div> </th> </tr> </thead>\n",
       "                <tbody> <tr> <td>1</td></tr><tr><td>2</td></tr><tr><td>3</td></tr><tr><td>4</td></tr><tr><td>5</td></tr><tr><td>6</td></tr><tr><td>7</td></tr><tr><td>8</td></tr><tr><td>9</td></tr><tr><td>10</td></tr><tr><td>11</td></tr><tr><td>12</td> </tr> </tbody>\n",
       "            </table>\n",
       "            <p>...</p>\n",
       "            <p>Total: 36</p></div>\n",
       "            "
      ],
      "text/plain": [
       "*sample_id   \n",
       "+-----------+\n",
       "1            \n",
       "2            \n",
       "3            \n",
       "4            \n",
       "5            \n",
       "6            \n",
       "7            \n",
       "8            \n",
       "9            \n",
       "10           \n",
       "11           \n",
       "12           \n",
       "   ...\n",
       " (Total: 36)"
      ]
     },
     "execution_count": 23,
     "metadata": {},
     "output_type": "execute_result"
    }
   ],
   "source": [
    "Sample()"
   ]
  },
  {
   "cell_type": "code",
   "execution_count": null,
   "metadata": {},
   "outputs": [],
   "source": []
  },
  {
   "cell_type": "code",
   "execution_count": 25,
   "metadata": {},
   "outputs": [
    {
     "name": "stderr",
     "output_type": "stream",
     "text": [
      "/Users/kijung/opt/anaconda3/lib/python3.7/site-packages/datajoint/connection.py:215: UserWarning: MySQL server has gone away. Reconnecting to the server.\n",
      "  warnings.warn(\"MySQL server has gone away. Reconnecting to the server.\")\n"
     ]
    },
    {
     "data": {
      "text/html": [
       "\n",
       "        \n",
       "        <style type=\"text/css\">\n",
       "            .Relation{\n",
       "                border-collapse:collapse;\n",
       "            }\n",
       "            .Relation th{\n",
       "                background: #A0A0A0; color: #ffffff; padding:4px; border:#f0e0e0 1px solid;\n",
       "                font-weight: normal; font-family: monospace; font-size: 100%;\n",
       "            }\n",
       "            .Relation td{\n",
       "                padding:4px; border:#f0e0e0 1px solid; font-size:100%;\n",
       "            }\n",
       "            .Relation tr:nth-child(odd){\n",
       "                background: #ffffff;\n",
       "            }\n",
       "            .Relation tr:nth-child(even){\n",
       "                background: #f3f1ff;\n",
       "            }\n",
       "            /* Tooltip container */\n",
       "            .djtooltip {\n",
       "            }\n",
       "            /* Tooltip text */\n",
       "            .djtooltip .djtooltiptext {\n",
       "                visibility: hidden;\n",
       "                width: 120px;\n",
       "                background-color: black;\n",
       "                color: #fff;\n",
       "                text-align: center;\n",
       "                padding: 5px 0;\n",
       "                border-radius: 6px;\n",
       "                /* Position the tooltip text - see examples below! */\n",
       "                position: absolute;\n",
       "                z-index: 1;\n",
       "            }\n",
       "            #primary {\n",
       "                font-weight: bold;\n",
       "                color: black;\n",
       "            }\n",
       "\n",
       "            #nonprimary {\n",
       "                font-weight: normal;\n",
       "                color: white;\n",
       "            }\n",
       "\n",
       "            /* Show the tooltip text when you mouse over the tooltip container */\n",
       "            .djtooltip:hover .djtooltiptext {\n",
       "                visibility: visible;\n",
       "            }\n",
       "        </style>\n",
       "        \n",
       "        <b>job reservation table for `kijung-gnn`</b>\n",
       "            <div style=\"max-height:1000px;max-width:1500px;overflow:auto;\">\n",
       "            <table border=\"1\" class=\"Relation\">\n",
       "                <thead> <tr style=\"text-align: right;\"> <th> <div class=\"djtooltip\">\n",
       "                                <p id=\"primary\">table_name</p>\n",
       "                                <span class=\"djtooltiptext\">className of the table</span>\n",
       "                            </div></th><th><div class=\"djtooltip\">\n",
       "                                <p id=\"primary\">key_hash</p>\n",
       "                                <span class=\"djtooltiptext\">key hash</span>\n",
       "                            </div></th><th><div class=\"djtooltip\">\n",
       "                                <p id=\"nonprimary\">status</p>\n",
       "                                <span class=\"djtooltiptext\">if tuple is missing, the job is available</span>\n",
       "                            </div></th><th><div class=\"djtooltip\">\n",
       "                                <p id=\"nonprimary\">key</p>\n",
       "                                <span class=\"djtooltiptext\">structure containing the key</span>\n",
       "                            </div></th><th><div class=\"djtooltip\">\n",
       "                                <p id=\"nonprimary\">error_message</p>\n",
       "                                <span class=\"djtooltiptext\">error message returned if failed</span>\n",
       "                            </div></th><th><div class=\"djtooltip\">\n",
       "                                <p id=\"nonprimary\">error_stack</p>\n",
       "                                <span class=\"djtooltiptext\">error stack if failed</span>\n",
       "                            </div></th><th><div class=\"djtooltip\">\n",
       "                                <p id=\"nonprimary\">user</p>\n",
       "                                <span class=\"djtooltiptext\">database user</span>\n",
       "                            </div></th><th><div class=\"djtooltip\">\n",
       "                                <p id=\"nonprimary\">host</p>\n",
       "                                <span class=\"djtooltiptext\">system hostname</span>\n",
       "                            </div></th><th><div class=\"djtooltip\">\n",
       "                                <p id=\"nonprimary\">pid</p>\n",
       "                                <span class=\"djtooltiptext\">system process id</span>\n",
       "                            </div></th><th><div class=\"djtooltip\">\n",
       "                                <p id=\"nonprimary\">connection_id</p>\n",
       "                                <span class=\"djtooltiptext\">connection_id()</span>\n",
       "                            </div></th><th><div class=\"djtooltip\">\n",
       "                                <p id=\"nonprimary\">timestamp</p>\n",
       "                                <span class=\"djtooltiptext\">automatic timestamp</span>\n",
       "                            </div> </th> </tr> </thead>\n",
       "                <tbody> <tr> <td>__sample_computed</td>\n",
       "<td>02e74f10e0327ad868d138f2b4fdd6f0</td>\n",
       "<td>reserved</td>\n",
       "<td>=BLOB=</td>\n",
       "<td></td>\n",
       "<td>=BLOB=</td>\n",
       "<td>kijung@10.66.4.28</td>\n",
       "<td>at-gpu1</td>\n",
       "<td>1</td>\n",
       "<td>24218</td>\n",
       "<td>2020-02-16 02:45:34</td></tr><tr><td>__sample_computed</td>\n",
       "<td>1679091c5a880faf6fb5e6087eb1b2dc</td>\n",
       "<td>reserved</td>\n",
       "<td>=BLOB=</td>\n",
       "<td></td>\n",
       "<td>=BLOB=</td>\n",
       "<td>kijung@10.66.4.30</td>\n",
       "<td>at-gpu3</td>\n",
       "<td>1</td>\n",
       "<td>24199</td>\n",
       "<td>2020-02-16 02:45:31</td></tr><tr><td>__sample_computed</td>\n",
       "<td>182be0c5cdcd5072bb1864cdee4d3d6e</td>\n",
       "<td>reserved</td>\n",
       "<td>=BLOB=</td>\n",
       "<td></td>\n",
       "<td>=BLOB=</td>\n",
       "<td>kijung@10.66.4.29</td>\n",
       "<td>at-gpu2</td>\n",
       "<td>1</td>\n",
       "<td>24224</td>\n",
       "<td>2020-02-16 02:45:35</td></tr><tr><td>__sample_computed</td>\n",
       "<td>19ca14e7ea6328a42e0eb13d585e4c22</td>\n",
       "<td>reserved</td>\n",
       "<td>=BLOB=</td>\n",
       "<td></td>\n",
       "<td>=BLOB=</td>\n",
       "<td>kijung@10.66.4.29</td>\n",
       "<td>at-gpu2</td>\n",
       "<td>1</td>\n",
       "<td>24227</td>\n",
       "<td>2020-02-16 02:45:36</td></tr><tr><td>__sample_computed</td>\n",
       "<td>1c383cd30b7c298ab50293adfecb7b18</td>\n",
       "<td>reserved</td>\n",
       "<td>=BLOB=</td>\n",
       "<td></td>\n",
       "<td>=BLOB=</td>\n",
       "<td>kijung@10.66.4.28</td>\n",
       "<td>at-gpu1</td>\n",
       "<td>1</td>\n",
       "<td>24226</td>\n",
       "<td>2020-02-16 02:45:36</td></tr><tr><td>__sample_computed</td>\n",
       "<td>1f0e3dad99908345f7439f8ffabdffc4</td>\n",
       "<td>reserved</td>\n",
       "<td>=BLOB=</td>\n",
       "<td></td>\n",
       "<td>=BLOB=</td>\n",
       "<td>kijung@10.28.0.70</td>\n",
       "<td>kanna</td>\n",
       "<td>1</td>\n",
       "<td>24210</td>\n",
       "<td>2020-02-16 02:45:33</td></tr><tr><td>__sample_computed</td>\n",
       "<td>1ff1de774005f8da13f42943881c655f</td>\n",
       "<td>reserved</td>\n",
       "<td>=BLOB=</td>\n",
       "<td></td>\n",
       "<td>=BLOB=</td>\n",
       "<td>kijung@10.66.4.30</td>\n",
       "<td>at-gpu3</td>\n",
       "<td>1</td>\n",
       "<td>24216</td>\n",
       "<td>2020-02-16 02:45:34</td></tr><tr><td>__sample_computed</td>\n",
       "<td>33e75ff09dd601bbe69f351039152189</td>\n",
       "<td>reserved</td>\n",
       "<td>=BLOB=</td>\n",
       "<td></td>\n",
       "<td>=BLOB=</td>\n",
       "<td>kijung@10.66.4.28</td>\n",
       "<td>at-gpu1</td>\n",
       "<td>1</td>\n",
       "<td>24219</td>\n",
       "<td>2020-02-16 02:45:34</td></tr><tr><td>__sample_computed</td>\n",
       "<td>34173cb38f07f89ddbebc2ac9128303f</td>\n",
       "<td>reserved</td>\n",
       "<td>=BLOB=</td>\n",
       "<td></td>\n",
       "<td>=BLOB=</td>\n",
       "<td>kijung@10.66.4.28</td>\n",
       "<td>at-gpu1</td>\n",
       "<td>1</td>\n",
       "<td>24221</td>\n",
       "<td>2020-02-16 02:45:35</td></tr><tr><td>__sample_computed</td>\n",
       "<td>37693cfc748049e45d87b8c7d8b9aacd</td>\n",
       "<td>reserved</td>\n",
       "<td>=BLOB=</td>\n",
       "<td></td>\n",
       "<td>=BLOB=</td>\n",
       "<td>kijung@10.28.0.70</td>\n",
       "<td>kanna</td>\n",
       "<td>1</td>\n",
       "<td>24215</td>\n",
       "<td>2020-02-16 02:45:34</td></tr><tr><td>__sample_computed</td>\n",
       "<td>3c59dc048e8850243be8079a5c74d079</td>\n",
       "<td>reserved</td>\n",
       "<td>=BLOB=</td>\n",
       "<td></td>\n",
       "<td>=BLOB=</td>\n",
       "<td>kijung@10.66.4.29</td>\n",
       "<td>at-gpu2</td>\n",
       "<td>1</td>\n",
       "<td>24212</td>\n",
       "<td>2020-02-16 02:45:34</td></tr><tr><td>__sample_computed</td>\n",
       "<td>45c48cce2e2d7fbdea1afc51c7c6ad26</td>\n",
       "<td>reserved</td>\n",
       "<td>=BLOB=</td>\n",
       "<td></td>\n",
       "<td>=BLOB=</td>\n",
       "<td>kijung@10.66.4.30</td>\n",
       "<td>at-gpu3</td>\n",
       "<td>1</td>\n",
       "<td>24201</td>\n",
       "<td>2020-02-16 02:45:31</td> </tr> </tbody>\n",
       "            </table>\n",
       "            <p>...</p>\n",
       "            <p>Total: 36</p></div>\n",
       "            "
      ],
      "text/plain": [
       "*table_name    *key_hash      status       key        error_message  error_stac user           host        pid     connection_id  timestamp     \n",
       "+------------+ +------------+ +----------+ +--------+ +------------+ +--------+ +------------+ +---------+ +-----+ +------------+ +------------+\n",
       "__sample_compu 02e74f10e0327a reserved     =BLOB=                    =BLOB=     kijung@10.66.4 at-gpu1     1       24218          2020-02-16 02:\n",
       "__sample_compu 1679091c5a880f reserved     =BLOB=                    =BLOB=     kijung@10.66.4 at-gpu3     1       24199          2020-02-16 02:\n",
       "__sample_compu 182be0c5cdcd50 reserved     =BLOB=                    =BLOB=     kijung@10.66.4 at-gpu2     1       24224          2020-02-16 02:\n",
       "__sample_compu 19ca14e7ea6328 reserved     =BLOB=                    =BLOB=     kijung@10.66.4 at-gpu2     1       24227          2020-02-16 02:\n",
       "__sample_compu 1c383cd30b7c29 reserved     =BLOB=                    =BLOB=     kijung@10.66.4 at-gpu1     1       24226          2020-02-16 02:\n",
       "__sample_compu 1f0e3dad999083 reserved     =BLOB=                    =BLOB=     kijung@10.28.0 kanna       1       24210          2020-02-16 02:\n",
       "__sample_compu 1ff1de774005f8 reserved     =BLOB=                    =BLOB=     kijung@10.66.4 at-gpu3     1       24216          2020-02-16 02:\n",
       "__sample_compu 33e75ff09dd601 reserved     =BLOB=                    =BLOB=     kijung@10.66.4 at-gpu1     1       24219          2020-02-16 02:\n",
       "__sample_compu 34173cb38f07f8 reserved     =BLOB=                    =BLOB=     kijung@10.66.4 at-gpu1     1       24221          2020-02-16 02:\n",
       "__sample_compu 37693cfc748049 reserved     =BLOB=                    =BLOB=     kijung@10.28.0 kanna       1       24215          2020-02-16 02:\n",
       "__sample_compu 3c59dc048e8850 reserved     =BLOB=                    =BLOB=     kijung@10.66.4 at-gpu2     1       24212          2020-02-16 02:\n",
       "__sample_compu 45c48cce2e2d7f reserved     =BLOB=                    =BLOB=     kijung@10.66.4 at-gpu3     1       24201          2020-02-16 02:\n",
       "   ...\n",
       " (Total: 36)"
      ]
     },
     "execution_count": 25,
     "metadata": {},
     "output_type": "execute_result"
    }
   ],
   "source": [
    "schema.jobs"
   ]
  },
  {
   "cell_type": "code",
   "execution_count": null,
   "metadata": {},
   "outputs": [],
   "source": [
    "@schema\n",
    "class SampleComputed(dj.Computed):\n",
    "    definition = \"\"\"\n",
    "    -> Sample\n",
    "    \"\"\"\n",
    "    \n",
    "    def make(self, key):\n",
    "        sample_id = key['sample_id']\n",
    "        \n",
    "        # Call main function to start computation\n",
    "        main(sample_id)\n",
    "        \n",
    "        self.insert1(key) # Just to mark it as completed"
   ]
  },
  {
   "cell_type": "code",
   "execution_count": null,
   "metadata": {},
   "outputs": [],
   "source": [
    "SampleComputed()"
   ]
  },
  {
   "cell_type": "code",
   "execution_count": null,
   "metadata": {},
   "outputs": [],
   "source": [
    "StudentScore().populate(reserve_jobs=True, suppress_errors=True)"
   ]
  },
  {
   "cell_type": "code",
   "execution_count": null,
   "metadata": {},
   "outputs": [],
   "source": [
    "(schema.jobs & dict(status = 'error')).delete_quick()"
   ]
  },
  {
   "cell_type": "code",
   "execution_count": null,
   "metadata": {},
   "outputs": [],
   "source": []
  },
  {
   "cell_type": "code",
   "execution_count": null,
   "metadata": {},
   "outputs": [],
   "source": [
    "# Datajoint tables are created via classes with a definition field like this\n",
    "\n",
    "# dj.Manual creation\n",
    "\n",
    "@schema\n",
    "class Student(dj.Manual):\n",
    "    definition = \"\"\"\n",
    "    student_id : int unsigned\n",
    "    ---\n",
    "    first_name : varchar(64)\n",
    "    last_name : varchar(64)\n",
    "    \"\"\"\n",
    "    \n",
    "# So a quick run down what all of this syntax means\n",
    "# Looking at the definiton field, anything values --- is considered to the primary key of the table, or in simpler terms\n",
    "# the column of values that uniquely identify each row of a table, in this case it is student_id\n",
    "\n",
    "# For every attribute (column, but in Database desgin we call it attribute) of the table the follwing syntax is a lowercase\n",
    "# seperated by underscore attirubte name, i.e student_id follow by a colon sepeartor : with a space before and after\n",
    "# and then the variable type. Datajoint support a couple of variable types, you can look them up here:\n",
    "# https://github.com/datajoint/wiki/wiki/Data-types"
   ]
  },
  {
   "cell_type": "code",
   "execution_count": null,
   "metadata": {},
   "outputs": [],
   "source": [
    "# After creation the table my defining it, you can then access like this:\n",
    "Student()\n",
    "\n",
    "# Which of course will be empty since there is nothing in it"
   ]
  },
  {
   "cell_type": "code",
   "execution_count": null,
   "metadata": {},
   "outputs": [],
   "source": [
    "# To insert values into the table, you can do them via dicts like this\n",
    "\n",
    "# Note that the key values of the dict must match the attribute names in the table\n",
    "\n"
   ]
  },
  {
   "cell_type": "code",
   "execution_count": null,
   "metadata": {},
   "outputs": [],
   "source": [
    "# Querying the stduent table again, we should see one value now\n",
    "Student()"
   ]
  },
  {
   "cell_type": "code",
   "execution_count": null,
   "metadata": {},
   "outputs": [],
   "source": [
    "# To restrict by a condition\n",
    "Student() & 'student_id < 5'"
   ]
  },
  {
   "cell_type": "code",
   "execution_count": null,
   "metadata": {},
   "outputs": [],
   "source": [
    "# To restrict by a specific match\n",
    "Student() & 'student_id = 1'\n",
    "# or\n",
    "Student() & dict(student_id = 1)"
   ]
  },
  {
   "cell_type": "code",
   "execution_count": null,
   "metadata": {},
   "outputs": [],
   "source": [
    "# fetching a specific value as dict\n",
    "(Student() & dict(student_id = 1)).fetch1()"
   ]
  },
  {
   "cell_type": "code",
   "execution_count": null,
   "metadata": {},
   "outputs": [],
   "source": [
    "# fetching only the primary key of the tuple\n",
    "(Student() & dict(student_id = 1)).fetch1('KEY')"
   ]
  },
  {
   "cell_type": "code",
   "execution_count": null,
   "metadata": {},
   "outputs": [],
   "source": [
    "# If there are buip"
   ]
  },
  {
   "cell_type": "code",
   "execution_count": null,
   "metadata": {},
   "outputs": [],
   "source": [
    "# to delete a specific value\n",
    "(Student() & dict(student_id = 1)).delete_quick()\n",
    "\n",
    "Student()"
   ]
  },
  {
   "cell_type": "code",
   "execution_count": null,
   "metadata": {},
   "outputs": [],
   "source": [
    "# To wipe the table from the DB we run drop_quick()\n",
    "# Note that this is not recoverabe, same thing for Stduent().delete_quick(), the differnce is that one drop dumps\n",
    "# the entire table out of the database allowing you to redefine the defintion, and delete just delete the rows only\n",
    "Student().drop_quick()\n",
    "\n",
    "# This basically covers the basic of datajoint tables"
   ]
  },
  {
   "cell_type": "markdown",
   "metadata": {},
   "source": [
    "## Part 4 dj.Computed Tables"
   ]
  },
  {
   "cell_type": "code",
   "execution_count": null,
   "metadata": {},
   "outputs": [],
   "source": [
    "'''\n",
    "dj.Computed tables are very similar to dj.Manual execpt that instead of you inserting each entry manually, the entry \n",
    "will be instead computed from a pre-define function from the user, hence the computed parts\n",
    "\n",
    "The other advantage of dj.Computed tables is that it can serve as a job queue for multiple instances of your application via\n",
    "the populate function which is called to start the computation of each row. This is particularly useful in cases with\n",
    "kubernetes cluster deployment where you can deploy like a 1000 instances of the application and datajoint will handle\n",
    "in an atomic fashion where each instance is populating 1 unique tuple.\n",
    "\n",
    "Let begin with creating with recreating the student table\n",
    "''' \n",
    "\n",
    "@schema\n",
    "class Student(dj.Manual):\n",
    "    definition = \"\"\"\n",
    "    student_id : int unsigned\n",
    "    ---\n",
    "    first_name : varchar(64)\n",
    "    last_name : varchar(64)\n",
    "    \"\"\"\n"
   ]
  },
  {
   "cell_type": "code",
   "execution_count": null,
   "metadata": {},
   "outputs": [],
   "source": [
    "for i in range(10):\n",
    "    dict_to_insert = dict(\n",
    "    student_id = i,\n",
    "    first_name = 'Daniel' + str(i),\n",
    "    last_name = 'Sitonic' + str(i))\n",
    "\n",
    "    Student.insert1(dict_to_insert)"
   ]
  },
  {
   "cell_type": "code",
   "execution_count": null,
   "metadata": {},
   "outputs": [],
   "source": [
    "# Creating the compute table that refernces the student table\n",
    "@schema\n",
    "class StudentScore(dj.Computed):\n",
    "    definition = \"\"\"\n",
    "    -> Student\n",
    "    ---\n",
    "    test_score : float\n",
    "    \"\"\"\n",
    "    \n",
    "    def make(self, key):\n",
    "        '''\n",
    "        This function is what is called during populate, and is where the user put his or her computation code and details\n",
    "        on what to store once the computation is done.\n",
    "        '''\n",
    "        \n",
    "        # Key here is a dictionary containing the primary key of Student which is student_id\n",
    "        # If you want to get the attribute then you will need to use fetch1 like the exmaple I put above\n",
    "        key['test_score'] = key['student_id'] * 100\n",
    "        \n",
    "        self.insert1(key)\n",
    "    \n",
    "'''\n",
    "The -> Student is what we call a forgien key refernce as in it reference the primary key of another table which in this\n",
    "case is Student. This means for each key in Student, there will be a computation tuple in StudentScore that corresponds\n",
    "with that tuple. In general the dj.Computed table is like your computation code / result storage table.\n",
    "'''"
   ]
  },
  {
   "cell_type": "code",
   "execution_count": null,
   "metadata": {},
   "outputs": [],
   "source": [
    "# Querying the StudentScore table, which should be empty\n",
    "StudentScore()"
   ]
  },
  {
   "cell_type": "code",
   "execution_count": null,
   "metadata": {},
   "outputs": [],
   "source": [
    "'''\n",
    "Populating the StudentScore table with reserved_jobs=True\n",
    "\n",
    "reserve_jobs, basically tells the database that whatever tuple it is working on to reserve it and not let other instances\n",
    "of populate work on that tuple. This is what allow coredenation among mutiple instances.\n",
    "\n",
    "In general the work flow of the populate function works like this:\n",
    "Get a forigen key that has not been reserved or computed already -> send to make function -> make function insert into \n",
    "the computed table -> repeat\n",
    "\n",
    "suppress_errors=True means not to throw an exception if there is a problem and just continue the loop above\n",
    "'''\n",
    "\n",
    "StudentScore().populate(reserve_jobs=True, suppress_errors=True)"
   ]
  },
  {
   "cell_type": "code",
   "execution_count": null,
   "metadata": {},
   "outputs": [],
   "source": [
    "# Querying the table again, we shall see that there are computed entires now\n",
    "StudentScore()"
   ]
  },
  {
   "cell_type": "code",
   "execution_count": null,
   "metadata": {},
   "outputs": [],
   "source": [
    "# To make get useful data there is a join command that can be done between the Student and StudentScore table\n",
    "Student * StudentScore\n",
    "\n",
    "# This will combine both tables where the student_id matches, after this you can use fetch() to fetch all the tuples all\n",
    "# at once which will be a list of dicts, then dump it in pandas or something to make format it and plot it "
   ]
  },
  {
   "cell_type": "code",
   "execution_count": null,
   "metadata": {},
   "outputs": [],
   "source": [
    "'''\n",
    "In order to see that status of your currently running jobs when let say you deploy to the cluster. Datajoint records all\n",
    "reserved jobs and failed jobs along with there error message in schema.jobs\n",
    "\n",
    "If we query it is now, it will be empty since there is nothing in there, however if there is an error job or \n",
    "one of the reserved_job instances was stop arrupptly without SIGTERM signal, then it stay in that table until deleted.\n",
    "\n",
    "The problem is that until it is deleted no other instances of populate can fetch that key to populate thus you must \n",
    "delete it so the database knows it is clear to allow computation of that key again\n",
    "'''\n",
    "\n",
    "schema.jobs"
   ]
  },
  {
   "cell_type": "markdown",
   "metadata": {},
   "source": [
    "## Part 5: Basic Table Design"
   ]
  },
  {
   "cell_type": "code",
   "execution_count": null,
   "metadata": {},
   "outputs": [],
   "source": []
  }
 ],
 "metadata": {
  "kernelspec": {
   "display_name": "Python 3",
   "language": "python",
   "name": "python3"
  },
  "language_info": {
   "codemirror_mode": {
    "name": "ipython",
    "version": 3
   },
   "file_extension": ".py",
   "mimetype": "text/x-python",
   "name": "python",
   "nbconvert_exporter": "python",
   "pygments_lexer": "ipython3",
   "version": "3.7.4"
  }
 },
 "nbformat": 4,
 "nbformat_minor": 2
}
